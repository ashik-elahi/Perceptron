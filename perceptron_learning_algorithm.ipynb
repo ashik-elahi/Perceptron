{
 "cells": [
  {
   "cell_type": "code",
   "execution_count": null,
   "metadata": {
    "execution": {
     "iopub.execute_input": "2023-12-12T09:14:25.327805Z",
     "iopub.status.busy": "2023-12-12T09:14:25.327398Z",
     "iopub.status.idle": "2023-12-12T09:14:27.134653Z",
     "shell.execute_reply": "2023-12-12T09:14:27.133427Z",
     "shell.execute_reply.started": "2023-12-12T09:14:25.327773Z"
    },
    "trusted": true
   },
   "outputs": [],
   "source": [
    "import numpy as np\n",
    "import matplotlib.pyplot as plt\n",
    "import pandas as pd\n",
    "import seaborn as sns\n",
    "from sklearn.model_selection import train_test_split \n",
    "from sklearn.preprocessing import LabelEncoder, OneHotEncoder\n",
    "from sklearn.preprocessing import StandardScaler \n",
    "from sklearn.metrics import confusion_matrix, ConfusionMatrixDisplay, accuracy_score"
   ]
  },
  {
   "cell_type": "code",
   "execution_count": 2,
   "metadata": {
    "execution": {
     "iopub.execute_input": "2023-12-12T09:14:27.137225Z",
     "iopub.status.busy": "2023-12-12T09:14:27.136739Z",
     "iopub.status.idle": "2023-12-12T09:14:27.232887Z",
     "shell.execute_reply": "2023-12-12T09:14:27.231703Z",
     "shell.execute_reply.started": "2023-12-12T09:14:27.137194Z"
    },
    "trusted": true
   },
   "outputs": [
    {
     "data": {
      "text/html": [
       "<div>\n",
       "<style scoped>\n",
       "    .dataframe tbody tr th:only-of-type {\n",
       "        vertical-align: middle;\n",
       "    }\n",
       "\n",
       "    .dataframe tbody tr th {\n",
       "        vertical-align: top;\n",
       "    }\n",
       "\n",
       "    .dataframe thead th {\n",
       "        text-align: right;\n",
       "    }\n",
       "</style>\n",
       "<table border=\"1\" class=\"dataframe\">\n",
       "  <thead>\n",
       "    <tr style=\"text-align: right;\">\n",
       "      <th></th>\n",
       "      <th>id</th>\n",
       "      <th>gender</th>\n",
       "      <th>age</th>\n",
       "      <th>hypertension</th>\n",
       "      <th>heart_disease</th>\n",
       "      <th>ever_married</th>\n",
       "      <th>work_type</th>\n",
       "      <th>Residence_type</th>\n",
       "      <th>avg_glucose_level</th>\n",
       "      <th>bmi</th>\n",
       "      <th>smoking_status</th>\n",
       "      <th>stroke</th>\n",
       "    </tr>\n",
       "  </thead>\n",
       "  <tbody>\n",
       "    <tr>\n",
       "      <th>0</th>\n",
       "      <td>9046</td>\n",
       "      <td>Male</td>\n",
       "      <td>67.0</td>\n",
       "      <td>0</td>\n",
       "      <td>1</td>\n",
       "      <td>Yes</td>\n",
       "      <td>Private</td>\n",
       "      <td>Urban</td>\n",
       "      <td>228.69</td>\n",
       "      <td>36.6</td>\n",
       "      <td>formerly smoked</td>\n",
       "      <td>1</td>\n",
       "    </tr>\n",
       "    <tr>\n",
       "      <th>1</th>\n",
       "      <td>51676</td>\n",
       "      <td>Female</td>\n",
       "      <td>61.0</td>\n",
       "      <td>0</td>\n",
       "      <td>0</td>\n",
       "      <td>Yes</td>\n",
       "      <td>Self-employed</td>\n",
       "      <td>Rural</td>\n",
       "      <td>202.21</td>\n",
       "      <td>NaN</td>\n",
       "      <td>never smoked</td>\n",
       "      <td>1</td>\n",
       "    </tr>\n",
       "    <tr>\n",
       "      <th>2</th>\n",
       "      <td>31112</td>\n",
       "      <td>Male</td>\n",
       "      <td>80.0</td>\n",
       "      <td>0</td>\n",
       "      <td>1</td>\n",
       "      <td>Yes</td>\n",
       "      <td>Private</td>\n",
       "      <td>Rural</td>\n",
       "      <td>105.92</td>\n",
       "      <td>32.5</td>\n",
       "      <td>never smoked</td>\n",
       "      <td>1</td>\n",
       "    </tr>\n",
       "    <tr>\n",
       "      <th>3</th>\n",
       "      <td>60182</td>\n",
       "      <td>Female</td>\n",
       "      <td>49.0</td>\n",
       "      <td>0</td>\n",
       "      <td>0</td>\n",
       "      <td>Yes</td>\n",
       "      <td>Private</td>\n",
       "      <td>Urban</td>\n",
       "      <td>171.23</td>\n",
       "      <td>34.4</td>\n",
       "      <td>smokes</td>\n",
       "      <td>1</td>\n",
       "    </tr>\n",
       "    <tr>\n",
       "      <th>4</th>\n",
       "      <td>1665</td>\n",
       "      <td>Female</td>\n",
       "      <td>79.0</td>\n",
       "      <td>1</td>\n",
       "      <td>0</td>\n",
       "      <td>Yes</td>\n",
       "      <td>Self-employed</td>\n",
       "      <td>Rural</td>\n",
       "      <td>174.12</td>\n",
       "      <td>24.0</td>\n",
       "      <td>never smoked</td>\n",
       "      <td>1</td>\n",
       "    </tr>\n",
       "    <tr>\n",
       "      <th>...</th>\n",
       "      <td>...</td>\n",
       "      <td>...</td>\n",
       "      <td>...</td>\n",
       "      <td>...</td>\n",
       "      <td>...</td>\n",
       "      <td>...</td>\n",
       "      <td>...</td>\n",
       "      <td>...</td>\n",
       "      <td>...</td>\n",
       "      <td>...</td>\n",
       "      <td>...</td>\n",
       "      <td>...</td>\n",
       "    </tr>\n",
       "    <tr>\n",
       "      <th>5105</th>\n",
       "      <td>18234</td>\n",
       "      <td>Female</td>\n",
       "      <td>80.0</td>\n",
       "      <td>1</td>\n",
       "      <td>0</td>\n",
       "      <td>Yes</td>\n",
       "      <td>Private</td>\n",
       "      <td>Urban</td>\n",
       "      <td>83.75</td>\n",
       "      <td>NaN</td>\n",
       "      <td>never smoked</td>\n",
       "      <td>0</td>\n",
       "    </tr>\n",
       "    <tr>\n",
       "      <th>5106</th>\n",
       "      <td>44873</td>\n",
       "      <td>Female</td>\n",
       "      <td>81.0</td>\n",
       "      <td>0</td>\n",
       "      <td>0</td>\n",
       "      <td>Yes</td>\n",
       "      <td>Self-employed</td>\n",
       "      <td>Urban</td>\n",
       "      <td>125.20</td>\n",
       "      <td>40.0</td>\n",
       "      <td>never smoked</td>\n",
       "      <td>0</td>\n",
       "    </tr>\n",
       "    <tr>\n",
       "      <th>5107</th>\n",
       "      <td>19723</td>\n",
       "      <td>Female</td>\n",
       "      <td>35.0</td>\n",
       "      <td>0</td>\n",
       "      <td>0</td>\n",
       "      <td>Yes</td>\n",
       "      <td>Self-employed</td>\n",
       "      <td>Rural</td>\n",
       "      <td>82.99</td>\n",
       "      <td>30.6</td>\n",
       "      <td>never smoked</td>\n",
       "      <td>0</td>\n",
       "    </tr>\n",
       "    <tr>\n",
       "      <th>5108</th>\n",
       "      <td>37544</td>\n",
       "      <td>Male</td>\n",
       "      <td>51.0</td>\n",
       "      <td>0</td>\n",
       "      <td>0</td>\n",
       "      <td>Yes</td>\n",
       "      <td>Private</td>\n",
       "      <td>Rural</td>\n",
       "      <td>166.29</td>\n",
       "      <td>25.6</td>\n",
       "      <td>formerly smoked</td>\n",
       "      <td>0</td>\n",
       "    </tr>\n",
       "    <tr>\n",
       "      <th>5109</th>\n",
       "      <td>44679</td>\n",
       "      <td>Female</td>\n",
       "      <td>44.0</td>\n",
       "      <td>0</td>\n",
       "      <td>0</td>\n",
       "      <td>Yes</td>\n",
       "      <td>Govt_job</td>\n",
       "      <td>Urban</td>\n",
       "      <td>85.28</td>\n",
       "      <td>26.2</td>\n",
       "      <td>Unknown</td>\n",
       "      <td>0</td>\n",
       "    </tr>\n",
       "  </tbody>\n",
       "</table>\n",
       "<p>5110 rows × 12 columns</p>\n",
       "</div>"
      ],
      "text/plain": [
       "         id  gender   age  hypertension  heart_disease ever_married  \\\n",
       "0      9046    Male  67.0             0              1          Yes   \n",
       "1     51676  Female  61.0             0              0          Yes   \n",
       "2     31112    Male  80.0             0              1          Yes   \n",
       "3     60182  Female  49.0             0              0          Yes   \n",
       "4      1665  Female  79.0             1              0          Yes   \n",
       "...     ...     ...   ...           ...            ...          ...   \n",
       "5105  18234  Female  80.0             1              0          Yes   \n",
       "5106  44873  Female  81.0             0              0          Yes   \n",
       "5107  19723  Female  35.0             0              0          Yes   \n",
       "5108  37544    Male  51.0             0              0          Yes   \n",
       "5109  44679  Female  44.0             0              0          Yes   \n",
       "\n",
       "          work_type Residence_type  avg_glucose_level   bmi   smoking_status  \\\n",
       "0           Private          Urban             228.69  36.6  formerly smoked   \n",
       "1     Self-employed          Rural             202.21   NaN     never smoked   \n",
       "2           Private          Rural             105.92  32.5     never smoked   \n",
       "3           Private          Urban             171.23  34.4           smokes   \n",
       "4     Self-employed          Rural             174.12  24.0     never smoked   \n",
       "...             ...            ...                ...   ...              ...   \n",
       "5105        Private          Urban              83.75   NaN     never smoked   \n",
       "5106  Self-employed          Urban             125.20  40.0     never smoked   \n",
       "5107  Self-employed          Rural              82.99  30.6     never smoked   \n",
       "5108        Private          Rural             166.29  25.6  formerly smoked   \n",
       "5109       Govt_job          Urban              85.28  26.2          Unknown   \n",
       "\n",
       "      stroke  \n",
       "0          1  \n",
       "1          1  \n",
       "2          1  \n",
       "3          1  \n",
       "4          1  \n",
       "...      ...  \n",
       "5105       0  \n",
       "5106       0  \n",
       "5107       0  \n",
       "5108       0  \n",
       "5109       0  \n",
       "\n",
       "[5110 rows x 12 columns]"
      ]
     },
     "execution_count": 2,
     "metadata": {},
     "output_type": "execute_result"
    }
   ],
   "source": [
    "data = pd.read_csv('/kaggle/input/stroke-prediction-dataset/healthcare-stroke-dataset.csv')\n",
    "data"
   ]
  },
  {
   "cell_type": "code",
   "execution_count": 3,
   "metadata": {
    "execution": {
     "iopub.execute_input": "2023-12-12T09:14:27.234691Z",
     "iopub.status.busy": "2023-12-12T09:14:27.234215Z",
     "iopub.status.idle": "2023-12-12T09:14:27.275800Z",
     "shell.execute_reply": "2023-12-12T09:14:27.274631Z",
     "shell.execute_reply.started": "2023-12-12T09:14:27.234648Z"
    },
    "trusted": true
   },
   "outputs": [
    {
     "data": {
      "text/html": [
       "<div>\n",
       "<style scoped>\n",
       "    .dataframe tbody tr th:only-of-type {\n",
       "        vertical-align: middle;\n",
       "    }\n",
       "\n",
       "    .dataframe tbody tr th {\n",
       "        vertical-align: top;\n",
       "    }\n",
       "\n",
       "    .dataframe thead th {\n",
       "        text-align: right;\n",
       "    }\n",
       "</style>\n",
       "<table border=\"1\" class=\"dataframe\">\n",
       "  <thead>\n",
       "    <tr style=\"text-align: right;\">\n",
       "      <th></th>\n",
       "      <th>age</th>\n",
       "      <th>hypertension</th>\n",
       "      <th>heart_disease</th>\n",
       "      <th>avg_glucose_level</th>\n",
       "      <th>bmi</th>\n",
       "      <th>stroke</th>\n",
       "    </tr>\n",
       "  </thead>\n",
       "  <tbody>\n",
       "    <tr>\n",
       "      <th>count</th>\n",
       "      <td>5110.000000</td>\n",
       "      <td>5110.000000</td>\n",
       "      <td>5110.000000</td>\n",
       "      <td>5110.000000</td>\n",
       "      <td>4909.000000</td>\n",
       "      <td>5110.000000</td>\n",
       "    </tr>\n",
       "    <tr>\n",
       "      <th>mean</th>\n",
       "      <td>43.226614</td>\n",
       "      <td>0.097456</td>\n",
       "      <td>0.054012</td>\n",
       "      <td>106.147677</td>\n",
       "      <td>28.893237</td>\n",
       "      <td>0.048728</td>\n",
       "    </tr>\n",
       "    <tr>\n",
       "      <th>std</th>\n",
       "      <td>22.612647</td>\n",
       "      <td>0.296607</td>\n",
       "      <td>0.226063</td>\n",
       "      <td>45.283560</td>\n",
       "      <td>7.854067</td>\n",
       "      <td>0.215320</td>\n",
       "    </tr>\n",
       "    <tr>\n",
       "      <th>min</th>\n",
       "      <td>0.080000</td>\n",
       "      <td>0.000000</td>\n",
       "      <td>0.000000</td>\n",
       "      <td>55.120000</td>\n",
       "      <td>10.300000</td>\n",
       "      <td>0.000000</td>\n",
       "    </tr>\n",
       "    <tr>\n",
       "      <th>25%</th>\n",
       "      <td>25.000000</td>\n",
       "      <td>0.000000</td>\n",
       "      <td>0.000000</td>\n",
       "      <td>77.245000</td>\n",
       "      <td>23.500000</td>\n",
       "      <td>0.000000</td>\n",
       "    </tr>\n",
       "    <tr>\n",
       "      <th>50%</th>\n",
       "      <td>45.000000</td>\n",
       "      <td>0.000000</td>\n",
       "      <td>0.000000</td>\n",
       "      <td>91.885000</td>\n",
       "      <td>28.100000</td>\n",
       "      <td>0.000000</td>\n",
       "    </tr>\n",
       "    <tr>\n",
       "      <th>75%</th>\n",
       "      <td>61.000000</td>\n",
       "      <td>0.000000</td>\n",
       "      <td>0.000000</td>\n",
       "      <td>114.090000</td>\n",
       "      <td>33.100000</td>\n",
       "      <td>0.000000</td>\n",
       "    </tr>\n",
       "    <tr>\n",
       "      <th>max</th>\n",
       "      <td>82.000000</td>\n",
       "      <td>1.000000</td>\n",
       "      <td>1.000000</td>\n",
       "      <td>271.740000</td>\n",
       "      <td>97.600000</td>\n",
       "      <td>1.000000</td>\n",
       "    </tr>\n",
       "  </tbody>\n",
       "</table>\n",
       "</div>"
      ],
      "text/plain": [
       "               age  hypertension  heart_disease  avg_glucose_level  \\\n",
       "count  5110.000000   5110.000000    5110.000000        5110.000000   \n",
       "mean     43.226614      0.097456       0.054012         106.147677   \n",
       "std      22.612647      0.296607       0.226063          45.283560   \n",
       "min       0.080000      0.000000       0.000000          55.120000   \n",
       "25%      25.000000      0.000000       0.000000          77.245000   \n",
       "50%      45.000000      0.000000       0.000000          91.885000   \n",
       "75%      61.000000      0.000000       0.000000         114.090000   \n",
       "max      82.000000      1.000000       1.000000         271.740000   \n",
       "\n",
       "               bmi       stroke  \n",
       "count  4909.000000  5110.000000  \n",
       "mean     28.893237     0.048728  \n",
       "std       7.854067     0.215320  \n",
       "min      10.300000     0.000000  \n",
       "25%      23.500000     0.000000  \n",
       "50%      28.100000     0.000000  \n",
       "75%      33.100000     0.000000  \n",
       "max      97.600000     1.000000  "
      ]
     },
     "execution_count": 3,
     "metadata": {},
     "output_type": "execute_result"
    }
   ],
   "source": [
    "data = data.drop('id', axis=1)\n",
    "data.describe()"
   ]
  },
  {
   "cell_type": "code",
   "execution_count": 4,
   "metadata": {
    "execution": {
     "iopub.execute_input": "2023-12-12T09:14:27.278630Z",
     "iopub.status.busy": "2023-12-12T09:14:27.278218Z",
     "iopub.status.idle": "2023-12-12T09:14:27.291804Z",
     "shell.execute_reply": "2023-12-12T09:14:27.290476Z",
     "shell.execute_reply.started": "2023-12-12T09:14:27.278570Z"
    },
    "trusted": true
   },
   "outputs": [
    {
     "data": {
      "text/plain": [
       "gender                 0\n",
       "age                    0\n",
       "hypertension           0\n",
       "heart_disease          0\n",
       "ever_married           0\n",
       "work_type              0\n",
       "Residence_type         0\n",
       "avg_glucose_level      0\n",
       "bmi                  201\n",
       "smoking_status         0\n",
       "stroke                 0\n",
       "dtype: int64"
      ]
     },
     "execution_count": 4,
     "metadata": {},
     "output_type": "execute_result"
    }
   ],
   "source": [
    "data.isnull().sum()"
   ]
  },
  {
   "cell_type": "code",
   "execution_count": 5,
   "metadata": {
    "execution": {
     "iopub.execute_input": "2023-12-12T09:14:27.294458Z",
     "iopub.status.busy": "2023-12-12T09:14:27.293365Z",
     "iopub.status.idle": "2023-12-12T09:14:27.311281Z",
     "shell.execute_reply": "2023-12-12T09:14:27.310079Z",
     "shell.execute_reply.started": "2023-12-12T09:14:27.294421Z"
    },
    "trusted": true
   },
   "outputs": [
    {
     "data": {
      "text/plain": [
       "gender               0\n",
       "age                  0\n",
       "hypertension         0\n",
       "heart_disease        0\n",
       "ever_married         0\n",
       "work_type            0\n",
       "Residence_type       0\n",
       "avg_glucose_level    0\n",
       "bmi                  0\n",
       "smoking_status       0\n",
       "stroke               0\n",
       "dtype: int64"
      ]
     },
     "execution_count": 5,
     "metadata": {},
     "output_type": "execute_result"
    }
   ],
   "source": [
    "data['bmi'] = data['bmi'].fillna(data['bmi'].mean())\n",
    "data.isnull().sum()"
   ]
  },
  {
   "cell_type": "code",
   "execution_count": 6,
   "metadata": {
    "execution": {
     "iopub.execute_input": "2023-12-12T09:14:27.313244Z",
     "iopub.status.busy": "2023-12-12T09:14:27.312886Z",
     "iopub.status.idle": "2023-12-12T09:14:27.325475Z",
     "shell.execute_reply": "2023-12-12T09:14:27.324143Z",
     "shell.execute_reply.started": "2023-12-12T09:14:27.313215Z"
    },
    "trusted": true
   },
   "outputs": [
    {
     "data": {
      "text/plain": [
       "stroke\n",
       "0    4861\n",
       "1     249\n",
       "Name: count, dtype: int64"
      ]
     },
     "execution_count": 6,
     "metadata": {},
     "output_type": "execute_result"
    }
   ],
   "source": [
    "data['stroke'].value_counts()"
   ]
  },
  {
   "cell_type": "code",
   "execution_count": 7,
   "metadata": {
    "execution": {
     "iopub.execute_input": "2023-12-12T09:14:27.327641Z",
     "iopub.status.busy": "2023-12-12T09:14:27.327213Z",
     "iopub.status.idle": "2023-12-12T09:14:27.336951Z",
     "shell.execute_reply": "2023-12-12T09:14:27.335570Z",
     "shell.execute_reply.started": "2023-12-12T09:14:27.327611Z"
    },
    "trusted": true
   },
   "outputs": [],
   "source": [
    "def label_transform(x):\n",
    "  le = LabelEncoder()\n",
    "  Encoded_le = le.fit_transform(x)\n",
    "  return Encoded_le"
   ]
  },
  {
   "cell_type": "code",
   "execution_count": 8,
   "metadata": {
    "execution": {
     "iopub.execute_input": "2023-12-12T09:14:27.339369Z",
     "iopub.status.busy": "2023-12-12T09:14:27.338886Z",
     "iopub.status.idle": "2023-12-12T09:14:27.382979Z",
     "shell.execute_reply": "2023-12-12T09:14:27.381580Z",
     "shell.execute_reply.started": "2023-12-12T09:14:27.339327Z"
    },
    "trusted": true
   },
   "outputs": [
    {
     "data": {
      "text/html": [
       "<div>\n",
       "<style scoped>\n",
       "    .dataframe tbody tr th:only-of-type {\n",
       "        vertical-align: middle;\n",
       "    }\n",
       "\n",
       "    .dataframe tbody tr th {\n",
       "        vertical-align: top;\n",
       "    }\n",
       "\n",
       "    .dataframe thead th {\n",
       "        text-align: right;\n",
       "    }\n",
       "</style>\n",
       "<table border=\"1\" class=\"dataframe\">\n",
       "  <thead>\n",
       "    <tr style=\"text-align: right;\">\n",
       "      <th></th>\n",
       "      <th>gender</th>\n",
       "      <th>age</th>\n",
       "      <th>hypertension</th>\n",
       "      <th>heart_disease</th>\n",
       "      <th>ever_married</th>\n",
       "      <th>work_type</th>\n",
       "      <th>Residence_type</th>\n",
       "      <th>avg_glucose_level</th>\n",
       "      <th>bmi</th>\n",
       "      <th>smoking_status</th>\n",
       "      <th>stroke</th>\n",
       "    </tr>\n",
       "  </thead>\n",
       "  <tbody>\n",
       "    <tr>\n",
       "      <th>0</th>\n",
       "      <td>1</td>\n",
       "      <td>67.0</td>\n",
       "      <td>0</td>\n",
       "      <td>1</td>\n",
       "      <td>1</td>\n",
       "      <td>2</td>\n",
       "      <td>1</td>\n",
       "      <td>228.69</td>\n",
       "      <td>36.600000</td>\n",
       "      <td>1</td>\n",
       "      <td>1</td>\n",
       "    </tr>\n",
       "    <tr>\n",
       "      <th>1</th>\n",
       "      <td>0</td>\n",
       "      <td>61.0</td>\n",
       "      <td>0</td>\n",
       "      <td>0</td>\n",
       "      <td>1</td>\n",
       "      <td>3</td>\n",
       "      <td>0</td>\n",
       "      <td>202.21</td>\n",
       "      <td>28.893237</td>\n",
       "      <td>2</td>\n",
       "      <td>1</td>\n",
       "    </tr>\n",
       "    <tr>\n",
       "      <th>2</th>\n",
       "      <td>1</td>\n",
       "      <td>80.0</td>\n",
       "      <td>0</td>\n",
       "      <td>1</td>\n",
       "      <td>1</td>\n",
       "      <td>2</td>\n",
       "      <td>0</td>\n",
       "      <td>105.92</td>\n",
       "      <td>32.500000</td>\n",
       "      <td>2</td>\n",
       "      <td>1</td>\n",
       "    </tr>\n",
       "    <tr>\n",
       "      <th>3</th>\n",
       "      <td>0</td>\n",
       "      <td>49.0</td>\n",
       "      <td>0</td>\n",
       "      <td>0</td>\n",
       "      <td>1</td>\n",
       "      <td>2</td>\n",
       "      <td>1</td>\n",
       "      <td>171.23</td>\n",
       "      <td>34.400000</td>\n",
       "      <td>3</td>\n",
       "      <td>1</td>\n",
       "    </tr>\n",
       "    <tr>\n",
       "      <th>4</th>\n",
       "      <td>0</td>\n",
       "      <td>79.0</td>\n",
       "      <td>1</td>\n",
       "      <td>0</td>\n",
       "      <td>1</td>\n",
       "      <td>3</td>\n",
       "      <td>0</td>\n",
       "      <td>174.12</td>\n",
       "      <td>24.000000</td>\n",
       "      <td>2</td>\n",
       "      <td>1</td>\n",
       "    </tr>\n",
       "  </tbody>\n",
       "</table>\n",
       "</div>"
      ],
      "text/plain": [
       "   gender   age  hypertension  heart_disease  ever_married  work_type  \\\n",
       "0       1  67.0             0              1             1          2   \n",
       "1       0  61.0             0              0             1          3   \n",
       "2       1  80.0             0              1             1          2   \n",
       "3       0  49.0             0              0             1          2   \n",
       "4       0  79.0             1              0             1          3   \n",
       "\n",
       "   Residence_type  avg_glucose_level        bmi  smoking_status  stroke  \n",
       "0               1             228.69  36.600000               1       1  \n",
       "1               0             202.21  28.893237               2       1  \n",
       "2               0             105.92  32.500000               2       1  \n",
       "3               1             171.23  34.400000               3       1  \n",
       "4               0             174.12  24.000000               2       1  "
      ]
     },
     "execution_count": 8,
     "metadata": {},
     "output_type": "execute_result"
    }
   ],
   "source": [
    "data_transformed = data.copy()\n",
    "catagoral_labels = ['gender','ever_married','work_type' ,'Residence_type','smoking_status']\n",
    "for x in catagoral_labels:\n",
    "  data[x] = label_transform(data[x])\n",
    "data.head()"
   ]
  },
  {
   "cell_type": "code",
   "execution_count": 9,
   "metadata": {
    "execution": {
     "iopub.execute_input": "2023-12-12T09:14:27.385117Z",
     "iopub.status.busy": "2023-12-12T09:14:27.384658Z",
     "iopub.status.idle": "2023-12-12T09:14:27.402262Z",
     "shell.execute_reply": "2023-12-12T09:14:27.400698Z",
     "shell.execute_reply.started": "2023-12-12T09:14:27.385075Z"
    },
    "trusted": true
   },
   "outputs": [],
   "source": [
    "scaler = StandardScaler()\n",
    "data[['age','hypertension','heart_disease','avg_glucose_level','bmi']] = \\\n",
    "scaler.fit_transform(data[['age','hypertension','heart_disease','avg_glucose_level','bmi']])"
   ]
  },
  {
   "cell_type": "code",
   "execution_count": 10,
   "metadata": {
    "execution": {
     "iopub.execute_input": "2023-12-12T09:14:27.410969Z",
     "iopub.status.busy": "2023-12-12T09:14:27.409774Z",
     "iopub.status.idle": "2023-12-12T09:14:27.419856Z",
     "shell.execute_reply": "2023-12-12T09:14:27.418630Z",
     "shell.execute_reply.started": "2023-12-12T09:14:27.410921Z"
    },
    "trusted": true
   },
   "outputs": [
    {
     "name": "stdout",
     "output_type": "stream",
     "text": [
      "2\n",
      "(5110, 11)\n"
     ]
    }
   ],
   "source": [
    "data = np.array(data)\n",
    "print(data.ndim)\n",
    "print(data.shape)\n",
    "# data[:,4].sum()\n"
   ]
  },
  {
   "cell_type": "code",
   "execution_count": 11,
   "metadata": {
    "execution": {
     "iopub.execute_input": "2023-12-12T09:14:27.421898Z",
     "iopub.status.busy": "2023-12-12T09:14:27.421408Z",
     "iopub.status.idle": "2023-12-12T09:14:27.432502Z",
     "shell.execute_reply": "2023-12-12T09:14:27.431298Z",
     "shell.execute_reply.started": "2023-12-12T09:14:27.421858Z"
    },
    "trusted": true
   },
   "outputs": [
    {
     "data": {
      "text/plain": [
       "array([[ 1.00000000e+00,  1.05143428e+00, -3.28601864e-01, ...,\n",
       "         1.00123401e+00,  1.00000000e+00,  1.00000000e+00],\n",
       "       [ 0.00000000e+00,  7.86070073e-01, -3.28601864e-01, ...,\n",
       "         4.61555355e-16,  2.00000000e+00,  1.00000000e+00],\n",
       "       [ 1.00000000e+00,  1.62639008e+00, -3.28601864e-01, ...,\n",
       "         4.68577254e-01,  2.00000000e+00,  1.00000000e+00],\n",
       "       ...,\n",
       "       [ 0.00000000e+00, -3.63841511e-01, -3.28601864e-01, ...,\n",
       "         2.21736316e-01,  2.00000000e+00,  0.00000000e+00],\n",
       "       [ 1.00000000e+00,  3.43796387e-01, -3.28601864e-01, ...,\n",
       "        -4.27845098e-01,  1.00000000e+00,  0.00000000e+00],\n",
       "       [ 0.00000000e+00,  3.42048064e-02, -3.28601864e-01, ...,\n",
       "        -3.49895329e-01,  0.00000000e+00,  0.00000000e+00]])"
      ]
     },
     "execution_count": 11,
     "metadata": {},
     "output_type": "execute_result"
    }
   ],
   "source": [
    "data"
   ]
  },
  {
   "cell_type": "code",
   "execution_count": 12,
   "metadata": {
    "execution": {
     "iopub.execute_input": "2023-12-12T09:14:27.435066Z",
     "iopub.status.busy": "2023-12-12T09:14:27.434237Z",
     "iopub.status.idle": "2023-12-12T09:14:27.445675Z",
     "shell.execute_reply": "2023-12-12T09:14:27.444566Z",
     "shell.execute_reply.started": "2023-12-12T09:14:27.435023Z"
    },
    "trusted": true
   },
   "outputs": [],
   "source": [
    "from sklearn.model_selection import train_test_split\n",
    "X_train, X_test = train_test_split(data, test_size=0.20, random_state=42)"
   ]
  },
  {
   "cell_type": "code",
   "execution_count": 13,
   "metadata": {
    "execution": {
     "iopub.execute_input": "2023-12-12T09:14:27.447991Z",
     "iopub.status.busy": "2023-12-12T09:14:27.446920Z",
     "iopub.status.idle": "2023-12-12T09:14:27.459805Z",
     "shell.execute_reply": "2023-12-12T09:14:27.458489Z",
     "shell.execute_reply.started": "2023-12-12T09:14:27.447956Z"
    },
    "trusted": true
   },
   "outputs": [
    {
     "name": "stdout",
     "output_type": "stream",
     "text": [
      "(4088, 11)\n",
      "187.0\n"
     ]
    }
   ],
   "source": [
    "print(X_train.shape)\n",
    "print(X_train[:,10].sum())"
   ]
  },
  {
   "cell_type": "code",
   "execution_count": 14,
   "metadata": {
    "execution": {
     "iopub.execute_input": "2023-12-12T09:14:27.462969Z",
     "iopub.status.busy": "2023-12-12T09:14:27.461710Z",
     "iopub.status.idle": "2023-12-12T09:14:27.472687Z",
     "shell.execute_reply": "2023-12-12T09:14:27.471343Z",
     "shell.execute_reply.started": "2023-12-12T09:14:27.462933Z"
    },
    "trusted": true
   },
   "outputs": [
    {
     "name": "stdout",
     "output_type": "stream",
     "text": [
      "(1022, 11)\n",
      "62.0\n"
     ]
    }
   ],
   "source": [
    "print(X_test.shape)\n",
    "print(X_test[:,10].sum())"
   ]
  },
  {
   "cell_type": "code",
   "execution_count": 15,
   "metadata": {
    "execution": {
     "iopub.execute_input": "2023-12-12T09:14:27.474940Z",
     "iopub.status.busy": "2023-12-12T09:14:27.474527Z",
     "iopub.status.idle": "2023-12-12T09:14:27.483249Z",
     "shell.execute_reply": "2023-12-12T09:14:27.481983Z",
     "shell.execute_reply.started": "2023-12-12T09:14:27.474908Z"
    },
    "trusted": true
   },
   "outputs": [],
   "source": [
    "weights = np.array([-0.25, -2.25, -3, 0.4, 2.5, 5.6, -4.7, 2.8, -1.9, 6.5 ])\n",
    "threshold = -0.25"
   ]
  },
  {
   "cell_type": "code",
   "execution_count": 16,
   "metadata": {
    "execution": {
     "iopub.execute_input": "2023-12-12T09:14:27.485432Z",
     "iopub.status.busy": "2023-12-12T09:14:27.484823Z",
     "iopub.status.idle": "2023-12-12T09:14:27.497202Z",
     "shell.execute_reply": "2023-12-12T09:14:27.496053Z",
     "shell.execute_reply.started": "2023-12-12T09:14:27.485400Z"
    },
    "trusted": true
   },
   "outputs": [
    {
     "data": {
      "text/plain": [
       "-0.25"
      ]
     },
     "execution_count": 16,
     "metadata": {},
     "output_type": "execute_result"
    }
   ],
   "source": [
    "threshold"
   ]
  },
  {
   "cell_type": "markdown",
   "metadata": {},
   "source": [
    "# Adapt Weights"
   ]
  },
  {
   "cell_type": "code",
   "execution_count": 17,
   "metadata": {
    "execution": {
     "iopub.execute_input": "2023-12-12T09:14:27.499104Z",
     "iopub.status.busy": "2023-12-12T09:14:27.498702Z",
     "iopub.status.idle": "2023-12-12T09:14:27.540639Z",
     "shell.execute_reply": "2023-12-12T09:14:27.539583Z",
     "shell.execute_reply.started": "2023-12-12T09:14:27.499073Z"
    },
    "trusted": true
   },
   "outputs": [
    {
     "name": "stdout",
     "output_type": "stream",
     "text": [
      "Training:\n",
      "Epoch: 1\tTrue Detection: 3716(4088)\tErr: 0.09\n",
      "\n",
      "New Weights: [ 0.75        4.57273026 -1.94293135 -0.32376639 -4.5        -5.4\n",
      " -2.7         2.84728495 -0.08700755 -2.5       ]\n"
     ]
    }
   ],
   "source": [
    "# TRAINING\n",
    "\n",
    "print(\"Training:\")\n",
    "epoch = 0\n",
    "while True:\n",
    "    epoch += 1\n",
    "    true_positive = 0\n",
    "    predicted = []\n",
    "\n",
    "    for row in X_train:\n",
    "        y = row[10]\n",
    "        net = sum(weights * row[0:10])\n",
    "\n",
    "        if net >= threshold:\n",
    "            predicted_y = 1\n",
    "        else:\n",
    "            predicted_y = 0\n",
    "\n",
    "        predicted.append(predicted_y)\n",
    "\n",
    "\n",
    "        if y == predicted_y:\n",
    "            true_positive += 1\n",
    "            continue\n",
    "        elif predicted_y == 0 and y == 1:\n",
    "            weights[0:10] = weights[0:10] + row[0:10]\n",
    "        else:\n",
    "            weights[0:10] = weights[0:10] - row[0:10]\n",
    "\n",
    "    err = 1 - (true_positive / len(X_train))\n",
    "    print(f\"Epoch: {epoch}\\tTrue Detection: {true_positive}({len(X_train)})\\tErr: {err:.2f}\")\n",
    "\n",
    "    if err <= 0.1:\n",
    "        print(f\"\\nNew Weights: {weights}\")\n",
    "        break\n",
    "\n",
    "    "
   ]
  },
  {
   "cell_type": "code",
   "execution_count": 18,
   "metadata": {
    "execution": {
     "iopub.execute_input": "2023-12-12T09:14:27.542817Z",
     "iopub.status.busy": "2023-12-12T09:14:27.542280Z",
     "iopub.status.idle": "2023-12-12T09:14:27.564626Z",
     "shell.execute_reply": "2023-12-12T09:14:27.563692Z",
     "shell.execute_reply.started": "2023-12-12T09:14:27.542779Z"
    },
    "trusted": true
   },
   "outputs": [
    {
     "name": "stdout",
     "output_type": "stream",
     "text": [
      "\n",
      "Testing:\n",
      "True Positive: 952(1022)\tAccuracy: 93.15%\n"
     ]
    }
   ],
   "source": [
    "# TESTING\n",
    "\n",
    "true_positive = 0\n",
    "for row in X_test:\n",
    "    y = row[10]\n",
    "    net = sum(weights * row[0:10])\n",
    "\n",
    "    if net >= threshold:\n",
    "        predicted_y = 1\n",
    "    else:\n",
    "        predicted_y = 0\n",
    "\n",
    "    if y == predicted_y:\n",
    "        true_positive += 1\n",
    "\n",
    "accuracy = (true_positive / len(X_test)) * 100\n",
    "print(f\"\\nTesting:\\nTrue Positive: {true_positive}({len(X_test)})\\tAccuracy: {accuracy:.2f}%\")"
   ]
  },
  {
   "cell_type": "code",
   "execution_count": 19,
   "metadata": {
    "execution": {
     "iopub.execute_input": "2023-12-12T09:14:27.566392Z",
     "iopub.status.busy": "2023-12-12T09:14:27.566043Z",
     "iopub.status.idle": "2023-12-12T09:14:27.573778Z",
     "shell.execute_reply": "2023-12-12T09:14:27.572341Z",
     "shell.execute_reply.started": "2023-12-12T09:14:27.566362Z"
    },
    "trusted": true
   },
   "outputs": [],
   "source": [
    "weights = np.array([-0.25, -2.25, -3, 0.4, 2.5, 5.6, -4.7, 2.8, -1.9, 6.5 ])\n",
    "threshold = -0.20\n",
    "learning_rate = 0.6"
   ]
  },
  {
   "cell_type": "code",
   "execution_count": 20,
   "metadata": {
    "execution": {
     "iopub.execute_input": "2023-12-12T09:14:27.575698Z",
     "iopub.status.busy": "2023-12-12T09:14:27.575286Z",
     "iopub.status.idle": "2023-12-12T09:14:27.589124Z",
     "shell.execute_reply": "2023-12-12T09:14:27.587865Z",
     "shell.execute_reply.started": "2023-12-12T09:14:27.575666Z"
    },
    "trusted": true
   },
   "outputs": [
    {
     "data": {
      "text/plain": [
       "-0.2"
      ]
     },
     "execution_count": 20,
     "metadata": {},
     "output_type": "execute_result"
    }
   ],
   "source": [
    "threshold"
   ]
  },
  {
   "cell_type": "markdown",
   "metadata": {},
   "source": [
    "# Adapt Weights - Modified Version"
   ]
  },
  {
   "cell_type": "code",
   "execution_count": 21,
   "metadata": {
    "execution": {
     "iopub.execute_input": "2023-12-12T09:14:27.590834Z",
     "iopub.status.busy": "2023-12-12T09:14:27.590450Z",
     "iopub.status.idle": "2023-12-12T09:14:27.637476Z",
     "shell.execute_reply": "2023-12-12T09:14:27.636328Z",
     "shell.execute_reply.started": "2023-12-12T09:14:27.590802Z"
    },
    "trusted": true
   },
   "outputs": [
    {
     "name": "stdout",
     "output_type": "stream",
     "text": [
      "Training:\n",
      "Epoch: 1\tTrue Positive: 3724(4088)\tErr: 0.09\n",
      "\n",
      "New Weights: [ 0.35        3.57168159 -1.1827921   0.82594864 -2.9        -2.8\n",
      " -1.1         2.85071322 -0.5503384  -2.5       ]\n"
     ]
    }
   ],
   "source": [
    "# TRAINING\n",
    "\n",
    "print(\"Training:\")\n",
    "epoch = 0\n",
    "while True:\n",
    "    epoch += 1\n",
    "    true_positive = 0\n",
    "    predicted = []\n",
    "\n",
    "    for row in X_train:\n",
    "        y = row[10]\n",
    "        net = sum(weights * row[0:10])\n",
    "\n",
    "        if net >= threshold:\n",
    "            predicted_y = 1\n",
    "        else:\n",
    "            predicted_y = 0\n",
    "\n",
    "        predicted.append(predicted_y)\n",
    "\n",
    "        if y == predicted_y:\n",
    "            true_positive += 1\n",
    "            continue\n",
    "        elif predicted_y == 0 and y == 1:\n",
    "            weights[0:10] = weights[0:10] + (learning_rate * row[0:10])\n",
    "        else:\n",
    "            weights[0:10] = weights[0:10] - (learning_rate * row[0:10])\n",
    "\n",
    "    err = 1 - (true_positive / len(X_train))\n",
    "    print(f\"Epoch: {epoch}\\tTrue Positive: {true_positive}({len(X_train)})\\tErr: {err:.2f}\")\n",
    "\n",
    "    if err <= 0.1:\n",
    "        print(f\"\\nNew Weights: {weights}\")\n",
    "        break"
   ]
  },
  {
   "cell_type": "code",
   "execution_count": 22,
   "metadata": {
    "execution": {
     "iopub.execute_input": "2023-12-12T09:14:27.639646Z",
     "iopub.status.busy": "2023-12-12T09:14:27.639001Z",
     "iopub.status.idle": "2023-12-12T09:14:27.653912Z",
     "shell.execute_reply": "2023-12-12T09:14:27.653091Z",
     "shell.execute_reply.started": "2023-12-12T09:14:27.639604Z"
    },
    "trusted": true
   },
   "outputs": [
    {
     "name": "stdout",
     "output_type": "stream",
     "text": [
      "\n",
      "Testing:\n",
      "True Positive: 947(1022)\tAccuracy: 92.66%\n"
     ]
    }
   ],
   "source": [
    "# TESTING\n",
    "\n",
    "true_positive = 0\n",
    "for row in X_test:\n",
    "    y = row[10]\n",
    "    net = sum(weights * row[0:10])\n",
    "\n",
    "    if net >= threshold:\n",
    "        predicted_y = 1\n",
    "    else:\n",
    "        predicted_y = 0\n",
    "\n",
    "    if y == predicted_y:\n",
    "        true_positive += 1\n",
    "\n",
    "accuracy = (true_positive / len(X_test)) * 100\n",
    "print(f\"\\nTesting:\\nTrue Positive: {true_positive}({len(X_test)})\\tAccuracy: {accuracy:.2f}%\")"
   ]
  },
  {
   "cell_type": "code",
   "execution_count": 23,
   "metadata": {
    "execution": {
     "iopub.execute_input": "2023-12-12T09:14:27.655785Z",
     "iopub.status.busy": "2023-12-12T09:14:27.655186Z",
     "iopub.status.idle": "2023-12-12T09:14:27.664815Z",
     "shell.execute_reply": "2023-12-12T09:14:27.663631Z",
     "shell.execute_reply.started": "2023-12-12T09:14:27.655755Z"
    },
    "trusted": true
   },
   "outputs": [],
   "source": [
    "weights = np.array([-0.25, -2.25, -3, 0.4, 2.5, 5.6, -4.7, 2.8, -1.9, 6.5 ])\n",
    "threshold = -0.20\n",
    "learning_rate = 0.6"
   ]
  },
  {
   "cell_type": "markdown",
   "metadata": {},
   "source": [
    "# Adapt Weights - Widro Hoff Delta Rule"
   ]
  },
  {
   "cell_type": "code",
   "execution_count": 24,
   "metadata": {
    "execution": {
     "iopub.execute_input": "2023-12-12T09:14:27.666493Z",
     "iopub.status.busy": "2023-12-12T09:14:27.666108Z",
     "iopub.status.idle": "2023-12-12T09:14:27.717077Z",
     "shell.execute_reply": "2023-12-12T09:14:27.715847Z",
     "shell.execute_reply.started": "2023-12-12T09:14:27.666461Z"
    },
    "trusted": true
   },
   "outputs": [
    {
     "name": "stdout",
     "output_type": "stream",
     "text": [
      "Training:\n",
      "Epoch: 1\tTrue Positive: 3724(4088)\tErr: 0.09\n",
      "\n",
      "New Weights: [ 0.35        3.57168159 -1.1827921   0.82594864 -2.9        -2.8\n",
      " -1.1         2.85071322 -0.5503384  -2.5       ]\n"
     ]
    }
   ],
   "source": [
    "# TRAINING\n",
    "\n",
    "print(\"Training:\")\n",
    "epoch = 0\n",
    "while True:\n",
    "    epoch += 1\n",
    "    true_positive = 0\n",
    "    predicted = []\n",
    "\n",
    "    for row in X_train:\n",
    "        y = row[10]\n",
    "        net = sum(weights * row[0:10])\n",
    "\n",
    "        if net >= threshold:\n",
    "            predicted_y = 1\n",
    "        else:\n",
    "            predicted_y = 0\n",
    "\n",
    "        predicted.append(predicted_y)\n",
    "        \n",
    "        delta = y - predicted_y\n",
    "\n",
    "        if y == predicted_y:\n",
    "            true_positive += 1\n",
    "            continue\n",
    "        else:\n",
    "            weights[0:10] = weights[0:10] + (learning_rate * delta * row[0:10])\n",
    "\n",
    "    err = 1 - (true_positive / len(X_train))\n",
    "    print(f\"Epoch: {epoch}\\tTrue Positive: {true_positive}({len(X_train)})\\tErr: {err:.2f}\")\n",
    "\n",
    "    if err <= 0.1:\n",
    "        print(f\"\\nNew Weights: {weights}\")\n",
    "        break\n"
   ]
  },
  {
   "cell_type": "code",
   "execution_count": null,
   "metadata": {
    "trusted": true
   },
   "outputs": [],
   "source": [
    "predicted"
   ]
  },
  {
   "cell_type": "code",
   "execution_count": 26,
   "metadata": {
    "execution": {
     "iopub.execute_input": "2023-12-12T09:14:27.750215Z",
     "iopub.status.busy": "2023-12-12T09:14:27.749777Z",
     "iopub.status.idle": "2023-12-12T09:14:27.757329Z",
     "shell.execute_reply": "2023-12-12T09:14:27.755292Z",
     "shell.execute_reply.started": "2023-12-12T09:14:27.750169Z"
    },
    "trusted": true
   },
   "outputs": [],
   "source": [
    "y_pred = []\n",
    "y_test = []"
   ]
  },
  {
   "cell_type": "code",
   "execution_count": 27,
   "metadata": {
    "execution": {
     "iopub.execute_input": "2023-12-12T09:14:27.761187Z",
     "iopub.status.busy": "2023-12-12T09:14:27.760764Z",
     "iopub.status.idle": "2023-12-12T09:14:27.779926Z",
     "shell.execute_reply": "2023-12-12T09:14:27.778085Z",
     "shell.execute_reply.started": "2023-12-12T09:14:27.761153Z"
    },
    "trusted": true
   },
   "outputs": [
    {
     "name": "stdout",
     "output_type": "stream",
     "text": [
      "\n",
      "Testing:\n",
      "True Positive: 947(1022)\tAccuracy: 92.66%\n"
     ]
    }
   ],
   "source": [
    "# TESTING\n",
    "\n",
    "true_positive = 0\n",
    "for row in X_test:\n",
    "    y = row[10]\n",
    "    net = sum(weights * row[0:10])\n",
    "\n",
    "    if net >= threshold:\n",
    "        predicted_y = 1\n",
    "    else:\n",
    "        predicted_y = 0\n",
    "\n",
    "    if y == predicted_y:\n",
    "        true_positive += 1\n",
    "    y_pred.append(predicted_y)\n",
    "    y_test.append(y)\n",
    "\n",
    "accuracy = (true_positive / len(X_test)) * 100\n",
    "print(f\"\\nTesting:\\nTrue Positive: {true_positive}({len(X_test)})\\tAccuracy: {accuracy:.2f}%\")"
   ]
  },
  {
   "cell_type": "code",
   "execution_count": 28,
   "metadata": {
    "execution": {
     "iopub.execute_input": "2023-12-12T09:14:27.787866Z",
     "iopub.status.busy": "2023-12-12T09:14:27.787396Z",
     "iopub.status.idle": "2023-12-12T09:14:28.125311Z",
     "shell.execute_reply": "2023-12-12T09:14:28.124031Z",
     "shell.execute_reply.started": "2023-12-12T09:14:27.787833Z"
    },
    "trusted": true
   },
   "outputs": [
    {
     "data": {
      "image/png": "[encoded data removed]",
      "text/plain": [
       "<Figure size 640x480 with 2 Axes>"
      ]
     },
     "metadata": {},
     "output_type": "display_data"
    }
   ],
   "source": [
    "cnf_matrix = confusion_matrix(y_test, y_pred)\n",
    "disp = ConfusionMatrixDisplay(confusion_matrix=cnf_matrix)\n",
    "disp.plot()\n",
    "plt.show()"
   ]
  },
  {
   "cell_type": "markdown",
   "metadata": {},
   "source": [
    "# AND Problem using SLP"
   ]
  },
  {
   "cell_type": "code",
   "execution_count": null,
   "metadata": {
    "execution": {
     "iopub.execute_input": "2023-12-12T09:14:28.717941Z",
     "iopub.status.busy": "2023-12-12T09:14:28.717474Z",
     "iopub.status.idle": "2023-12-12T09:14:28.732633Z",
     "shell.execute_reply": "2023-12-12T09:14:28.730926Z",
     "shell.execute_reply.started": "2023-12-12T09:14:28.717898Z"
    },
    "trusted": true
   },
   "outputs": [
    {
     "name": "stdout",
     "output_type": "stream",
     "text": [
      "Epoch: 1\tTrue Positive: 2(4)\tErr: 0.50\n",
      "Epoch: 2\tTrue Positive: 2(4)\tErr: 0.50\n",
      "Epoch: 3\tTrue Positive: 4(4)\tErr: 0.00\n",
      "\n",
      "New Weights: [0.2 0.2]\n"
     ]
    }
   ],
   "source": [
    "weights = np.array([0.4, 0.4])\n",
    "threshold = 0.3\n",
    "learning_rate = 0.1\n",
    "\n",
    "data = np.array([[0, 0, 0], [0, 1, 0], [1, 0, 0], [1, 1, 1]])\n",
    "\n",
    "epoch = 0\n",
    "while True:\n",
    "    epoch += 1\n",
    "    true_positive = 0\n",
    "    predicted = []\n",
    "\n",
    "    for row in data:\n",
    "        y = row[2]\n",
    "        net = sum(weights * row[0:2])\n",
    "\n",
    "        if net >= threshold:\n",
    "            predicted_y = 1\n",
    "        else:\n",
    "            predicted_y = 0\n",
    "\n",
    "        predicted.append(predicted_y)\n",
    "        \n",
    "        delta = y - predicted_y\n",
    "\n",
    "        if y == predicted_y:\n",
    "            true_positive += 1\n",
    "            continue\n",
    "        else:\n",
    "            weights[0:2] = weights[0:2] + (learning_rate * delta * row[0:2])\n",
    "\n",
    "    err = 1 - (true_positive / len(data))\n",
    "    print(f\"Epoch: {epoch}\\tTrue Positive: {true_positive}({len(data)})\\tErr: {err:.2f}\")\n",
    "\n",
    "print(f\"\\nNew Weights: {weights}\")"
   ]
  }
 ],
 "metadata": {
  "kaggle": {
   "accelerator": "none",
   "dataSources": [
    {
     "datasetId": 3852654,
     "sourceId": 6677797,
     "sourceType": "datasetVersion"
    }
   ],
   "dockerImageVersionId": 30558,
   "isGpuEnabled": false,
   "isInternetEnabled": false,
   "language": "python",
   "sourceType": "notebook"
  },
  "kernelspec": {
   "display_name": "Python 3",
   "language": "python",
   "name": "python3"
  },
  "language_info": {
   "codemirror_mode": {
    "name": "ipython",
    "version": 3
   },
   "file_extension": ".py",
   "mimetype": "text/x-python",
   "name": "python",
   "nbconvert_exporter": "python",
   "pygments_lexer": "ipython3",
   "version": "3.10.12"
  }
 },
 "nbformat": 4,
 "nbformat_minor": 4
}
